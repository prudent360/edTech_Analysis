{
 "cells": [
  {
   "cell_type": "code",
   "execution_count": 2,
   "id": "fd5a6a4c",
   "metadata": {},
   "outputs": [],
   "source": [
    "# importing libraries\n",
    "import pandas as pd\n",
    "\n",
    "# Load the CSV file into a pandas DataFrame\n",
    "df = pd.read_csv('data.csv')"
   ]
  },
  {
   "cell_type": "code",
   "execution_count": 5,
   "id": "ee0b519f",
   "metadata": {},
   "outputs": [
    {
     "data": {
      "text/html": [
       "<div>\n",
       "<style scoped>\n",
       "    .dataframe tbody tr th:only-of-type {\n",
       "        vertical-align: middle;\n",
       "    }\n",
       "\n",
       "    .dataframe tbody tr th {\n",
       "        vertical-align: top;\n",
       "    }\n",
       "\n",
       "    .dataframe thead th {\n",
       "        text-align: right;\n",
       "    }\n",
       "</style>\n",
       "<table border=\"1\" class=\"dataframe\">\n",
       "  <thead>\n",
       "    <tr style=\"text-align: right;\">\n",
       "      <th></th>\n",
       "      <th>title</th>\n",
       "      <th>summary</th>\n",
       "      <th>installs</th>\n",
       "      <th>score</th>\n",
       "      <th>ratings</th>\n",
       "      <th>reviews</th>\n",
       "      <th>size</th>\n",
       "      <th>androidVersion</th>\n",
       "      <th>developer</th>\n",
       "      <th>genreId</th>\n",
       "      <th>icon</th>\n",
       "      <th>contentRating</th>\n",
       "      <th>containsAds</th>\n",
       "      <th>released</th>\n",
       "      <th>updated</th>\n",
       "      <th>version</th>\n",
       "      <th>similarApps</th>\n",
       "      <th>url</th>\n",
       "    </tr>\n",
       "  </thead>\n",
       "  <tbody>\n",
       "    <tr>\n",
       "      <th>0</th>\n",
       "      <td>BYJU'S – The Learning App</td>\n",
       "      <td>Engaging video lessons, live classes, personal...</td>\n",
       "      <td>100000000.0</td>\n",
       "      <td>4.122065</td>\n",
       "      <td>1745108.0</td>\n",
       "      <td>947.0</td>\n",
       "      <td>167M</td>\n",
       "      <td>5.0</td>\n",
       "      <td>BYJU'S</td>\n",
       "      <td>EDUCATION</td>\n",
       "      <td>https://play-lh.googleusercontent.com/rFv7fIYW...</td>\n",
       "      <td>Everyone</td>\n",
       "      <td>False</td>\n",
       "      <td>Jul 6, 2015</td>\n",
       "      <td>1.651665e+09</td>\n",
       "      <td>10.1.1.13300</td>\n",
       "      <td>['com.instapreps', 'com.noonEdu.k12App', 'com....</td>\n",
       "      <td>https://play.google.com/store/apps/details?id=...</td>\n",
       "    </tr>\n",
       "    <tr>\n",
       "      <th>1</th>\n",
       "      <td>Duolingo: language lessons</td>\n",
       "      <td>Learn Spanish, French, German, Italian, Englis...</td>\n",
       "      <td>100000000.0</td>\n",
       "      <td>4.573800</td>\n",
       "      <td>12512116.0</td>\n",
       "      <td>592133.0</td>\n",
       "      <td>Varies with device</td>\n",
       "      <td>Varies</td>\n",
       "      <td>Duolingo</td>\n",
       "      <td>EDUCATION</td>\n",
       "      <td>https://play-lh.googleusercontent.com/hSyebBlY...</td>\n",
       "      <td>Everyone</td>\n",
       "      <td>True</td>\n",
       "      <td>May 29, 2013</td>\n",
       "      <td>1.652122e+09</td>\n",
       "      <td>Varies with device</td>\n",
       "      <td>['com.pinterest', 'com.memrise.android.memrise...</td>\n",
       "      <td>https://play.google.com/store/apps/details?id=...</td>\n",
       "    </tr>\n",
       "    <tr>\n",
       "      <th>2</th>\n",
       "      <td>IIT JEE, NEET, NCERT Solutions</td>\n",
       "      <td>NCERT Solutions, CBSE, Board, IIT JEE, NEET Pr...</td>\n",
       "      <td>50000000.0</td>\n",
       "      <td>4.220000</td>\n",
       "      <td>574552.0</td>\n",
       "      <td>307.0</td>\n",
       "      <td>22M</td>\n",
       "      <td>5.0</td>\n",
       "      <td>Doubtnut: Doubt Solving &amp; Video Solutions App</td>\n",
       "      <td>EDUCATION</td>\n",
       "      <td>https://play-lh.googleusercontent.com/t5KqZtPT...</td>\n",
       "      <td>Everyone</td>\n",
       "      <td>False</td>\n",
       "      <td>Oct 14, 2016</td>\n",
       "      <td>1.652126e+09</td>\n",
       "      <td>7.9.67</td>\n",
       "      <td>['com.chegg', 'com.instapreps', 'com.noonEdu.k...</td>\n",
       "      <td>https://play.google.com/store/apps/details?id=...</td>\n",
       "    </tr>\n",
       "    <tr>\n",
       "      <th>3</th>\n",
       "      <td>Unacademy Learner App</td>\n",
       "      <td>Interact with India’s Top Educators and take L...</td>\n",
       "      <td>50000000.0</td>\n",
       "      <td>3.358490</td>\n",
       "      <td>951700.0</td>\n",
       "      <td>452.0</td>\n",
       "      <td>Varies with device</td>\n",
       "      <td>Varies</td>\n",
       "      <td>Unacademy</td>\n",
       "      <td>EDUCATION</td>\n",
       "      <td>https://play-lh.googleusercontent.com/DT0jm91v...</td>\n",
       "      <td>Everyone</td>\n",
       "      <td>False</td>\n",
       "      <td>Feb 15, 2017</td>\n",
       "      <td>1.651834e+09</td>\n",
       "      <td>Varies with device</td>\n",
       "      <td>['com.instapreps', 'com.noonEdu.k12App', 'com....</td>\n",
       "      <td>https://play.google.com/store/apps/details?id=...</td>\n",
       "    </tr>\n",
       "    <tr>\n",
       "      <th>4</th>\n",
       "      <td>Noon Academy – Student Learning App</td>\n",
       "      <td>Learn from the best teachers with your friends...</td>\n",
       "      <td>10000000.0</td>\n",
       "      <td>4.252337</td>\n",
       "      <td>103191.0</td>\n",
       "      <td>459.0</td>\n",
       "      <td>52M</td>\n",
       "      <td>5.0</td>\n",
       "      <td>Noon Academy</td>\n",
       "      <td>EDUCATION</td>\n",
       "      <td>https://play-lh.googleusercontent.com/23u77l3A...</td>\n",
       "      <td>Everyone</td>\n",
       "      <td>False</td>\n",
       "      <td>Mar 12, 2017</td>\n",
       "      <td>1.652216e+09</td>\n",
       "      <td>4.6.32</td>\n",
       "      <td>['com.chegg', 'com.instapreps', 'com.guruvise....</td>\n",
       "      <td>https://play.google.com/store/apps/details?id=...</td>\n",
       "    </tr>\n",
       "    <tr>\n",
       "      <th>...</th>\n",
       "      <td>...</td>\n",
       "      <td>...</td>\n",
       "      <td>...</td>\n",
       "      <td>...</td>\n",
       "      <td>...</td>\n",
       "      <td>...</td>\n",
       "      <td>...</td>\n",
       "      <td>...</td>\n",
       "      <td>...</td>\n",
       "      <td>...</td>\n",
       "      <td>...</td>\n",
       "      <td>...</td>\n",
       "      <td>...</td>\n",
       "      <td>...</td>\n",
       "      <td>...</td>\n",
       "      <td>...</td>\n",
       "      <td>...</td>\n",
       "      <td>...</td>\n",
       "    </tr>\n",
       "    <tr>\n",
       "      <th>76</th>\n",
       "      <td>Dr course (student)</td>\n",
       "      <td>تطبيق د.كورس</td>\n",
       "      <td>1000.0</td>\n",
       "      <td>0.000000</td>\n",
       "      <td>NaN</td>\n",
       "      <td>0.0</td>\n",
       "      <td>58M</td>\n",
       "      <td>6.0</td>\n",
       "      <td>Devo tech</td>\n",
       "      <td>EDUCATION</td>\n",
       "      <td>https://play-lh.googleusercontent.com/e7DGV_Mf...</td>\n",
       "      <td>Everyone</td>\n",
       "      <td>True</td>\n",
       "      <td>Aug 28, 2021</td>\n",
       "      <td>1.651358e+09</td>\n",
       "      <td>1.4.40</td>\n",
       "      <td>['de.Yass.X_ArabicMusnad', 'com.pronunciatorll...</td>\n",
       "      <td>https://play.google.com/store/apps/details?id=...</td>\n",
       "    </tr>\n",
       "    <tr>\n",
       "      <th>77</th>\n",
       "      <td>Edutechs</td>\n",
       "      <td>Personal Edtech AI Assistant</td>\n",
       "      <td>500.0</td>\n",
       "      <td>0.000000</td>\n",
       "      <td>NaN</td>\n",
       "      <td>0.0</td>\n",
       "      <td>82M</td>\n",
       "      <td>5.0</td>\n",
       "      <td>M. Ekram</td>\n",
       "      <td>EDUCATION</td>\n",
       "      <td>https://play-lh.googleusercontent.com/aI5BjESH...</td>\n",
       "      <td>Everyone</td>\n",
       "      <td>False</td>\n",
       "      <td>Oct 21, 2020</td>\n",
       "      <td>1.651859e+09</td>\n",
       "      <td>44.9</td>\n",
       "      <td>['com.zenkit.zenkit', 'com.mergemobile.fastfie...</td>\n",
       "      <td>https://play.google.com/store/apps/details?id=...</td>\n",
       "    </tr>\n",
       "    <tr>\n",
       "      <th>78</th>\n",
       "      <td>Bluelogic EdTech ERP</td>\n",
       "      <td>Online Web-Portal for Schools</td>\n",
       "      <td>500.0</td>\n",
       "      <td>0.000000</td>\n",
       "      <td>NaN</td>\n",
       "      <td>0.0</td>\n",
       "      <td>4.7M</td>\n",
       "      <td>5.1</td>\n",
       "      <td>Bluelogic solution</td>\n",
       "      <td>EDUCATION</td>\n",
       "      <td>https://play-lh.googleusercontent.com/YYOrV811...</td>\n",
       "      <td>Everyone</td>\n",
       "      <td>False</td>\n",
       "      <td>Jun 6, 2020</td>\n",
       "      <td>1.636528e+09</td>\n",
       "      <td>1.3.445</td>\n",
       "      <td>['com.bebyaz.examreader', 'com.ubihrm.ubihrm']</td>\n",
       "      <td>https://play.google.com/store/apps/details?id=...</td>\n",
       "    </tr>\n",
       "    <tr>\n",
       "      <th>79</th>\n",
       "      <td>EdTech</td>\n",
       "      <td>You can use this app for study material Notes ...</td>\n",
       "      <td>500.0</td>\n",
       "      <td>0.000000</td>\n",
       "      <td>NaN</td>\n",
       "      <td>0.0</td>\n",
       "      <td>5.7M</td>\n",
       "      <td>6.0</td>\n",
       "      <td>DELLHOAK</td>\n",
       "      <td>EDUCATION</td>\n",
       "      <td>https://play-lh.googleusercontent.com/3hPKZzEF...</td>\n",
       "      <td>Everyone</td>\n",
       "      <td>False</td>\n",
       "      <td>May 20, 2021</td>\n",
       "      <td>1.621531e+09</td>\n",
       "      <td>1.0</td>\n",
       "      <td>['com.kharty.kharty', 'com.hosam.my_courses', ...</td>\n",
       "      <td>https://play.google.com/store/apps/details?id=...</td>\n",
       "    </tr>\n",
       "    <tr>\n",
       "      <th>80</th>\n",
       "      <td>EdTech Middle East</td>\n",
       "      <td>Technology is changing the face of education a...</td>\n",
       "      <td>5.0</td>\n",
       "      <td>0.000000</td>\n",
       "      <td>NaN</td>\n",
       "      <td>0.0</td>\n",
       "      <td>11M</td>\n",
       "      <td>4.2</td>\n",
       "      <td>Moftah Publishing</td>\n",
       "      <td>EDUCATION</td>\n",
       "      <td>https://play-lh.googleusercontent.com/_8s3ICY2...</td>\n",
       "      <td>Everyone</td>\n",
       "      <td>True</td>\n",
       "      <td>Dec 19, 2019</td>\n",
       "      <td>1.576788e+09</td>\n",
       "      <td>2.5.1</td>\n",
       "      <td>['com.olyappunited', 'com.emeritus.mobile', 'c...</td>\n",
       "      <td>https://play.google.com/store/apps/details?id=...</td>\n",
       "    </tr>\n",
       "  </tbody>\n",
       "</table>\n",
       "<p>81 rows × 18 columns</p>\n",
       "</div>"
      ],
      "text/plain": [
       "                                  title  \\\n",
       "0             BYJU'S – The Learning App   \n",
       "1            Duolingo: language lessons   \n",
       "2        IIT JEE, NEET, NCERT Solutions   \n",
       "3                 Unacademy Learner App   \n",
       "4   Noon Academy – Student Learning App   \n",
       "..                                  ...   \n",
       "76                  Dr course (student)   \n",
       "77                             Edutechs   \n",
       "78                 Bluelogic EdTech ERP   \n",
       "79                               EdTech   \n",
       "80                   EdTech Middle East   \n",
       "\n",
       "                                              summary     installs     score  \\\n",
       "0   Engaging video lessons, live classes, personal...  100000000.0  4.122065   \n",
       "1   Learn Spanish, French, German, Italian, Englis...  100000000.0  4.573800   \n",
       "2   NCERT Solutions, CBSE, Board, IIT JEE, NEET Pr...   50000000.0  4.220000   \n",
       "3   Interact with India’s Top Educators and take L...   50000000.0  3.358490   \n",
       "4   Learn from the best teachers with your friends...   10000000.0  4.252337   \n",
       "..                                                ...          ...       ...   \n",
       "76                                       تطبيق د.كورس       1000.0  0.000000   \n",
       "77                       Personal Edtech AI Assistant        500.0  0.000000   \n",
       "78                      Online Web-Portal for Schools        500.0  0.000000   \n",
       "79  You can use this app for study material Notes ...        500.0  0.000000   \n",
       "80  Technology is changing the face of education a...          5.0  0.000000   \n",
       "\n",
       "       ratings   reviews                size androidVersion  \\\n",
       "0    1745108.0     947.0                167M            5.0   \n",
       "1   12512116.0  592133.0  Varies with device         Varies   \n",
       "2     574552.0     307.0                 22M            5.0   \n",
       "3     951700.0     452.0  Varies with device         Varies   \n",
       "4     103191.0     459.0                 52M            5.0   \n",
       "..         ...       ...                 ...            ...   \n",
       "76         NaN       0.0                 58M            6.0   \n",
       "77         NaN       0.0                 82M            5.0   \n",
       "78         NaN       0.0                4.7M            5.1   \n",
       "79         NaN       0.0                5.7M            6.0   \n",
       "80         NaN       0.0                 11M            4.2   \n",
       "\n",
       "                                        developer    genreId  \\\n",
       "0                                          BYJU'S  EDUCATION   \n",
       "1                                        Duolingo  EDUCATION   \n",
       "2   Doubtnut: Doubt Solving & Video Solutions App  EDUCATION   \n",
       "3                                       Unacademy  EDUCATION   \n",
       "4                                    Noon Academy  EDUCATION   \n",
       "..                                            ...        ...   \n",
       "76                                      Devo tech  EDUCATION   \n",
       "77                                       M. Ekram  EDUCATION   \n",
       "78                             Bluelogic solution  EDUCATION   \n",
       "79                                       DELLHOAK  EDUCATION   \n",
       "80                              Moftah Publishing  EDUCATION   \n",
       "\n",
       "                                                 icon contentRating  \\\n",
       "0   https://play-lh.googleusercontent.com/rFv7fIYW...      Everyone   \n",
       "1   https://play-lh.googleusercontent.com/hSyebBlY...      Everyone   \n",
       "2   https://play-lh.googleusercontent.com/t5KqZtPT...      Everyone   \n",
       "3   https://play-lh.googleusercontent.com/DT0jm91v...      Everyone   \n",
       "4   https://play-lh.googleusercontent.com/23u77l3A...      Everyone   \n",
       "..                                                ...           ...   \n",
       "76  https://play-lh.googleusercontent.com/e7DGV_Mf...      Everyone   \n",
       "77  https://play-lh.googleusercontent.com/aI5BjESH...      Everyone   \n",
       "78  https://play-lh.googleusercontent.com/YYOrV811...      Everyone   \n",
       "79  https://play-lh.googleusercontent.com/3hPKZzEF...      Everyone   \n",
       "80  https://play-lh.googleusercontent.com/_8s3ICY2...      Everyone   \n",
       "\n",
       "    containsAds      released       updated             version  \\\n",
       "0         False   Jul 6, 2015  1.651665e+09        10.1.1.13300   \n",
       "1          True  May 29, 2013  1.652122e+09  Varies with device   \n",
       "2         False  Oct 14, 2016  1.652126e+09              7.9.67   \n",
       "3         False  Feb 15, 2017  1.651834e+09  Varies with device   \n",
       "4         False  Mar 12, 2017  1.652216e+09              4.6.32   \n",
       "..          ...           ...           ...                 ...   \n",
       "76         True  Aug 28, 2021  1.651358e+09              1.4.40   \n",
       "77        False  Oct 21, 2020  1.651859e+09                44.9   \n",
       "78        False   Jun 6, 2020  1.636528e+09             1.3.445   \n",
       "79        False  May 20, 2021  1.621531e+09                 1.0   \n",
       "80         True  Dec 19, 2019  1.576788e+09               2.5.1   \n",
       "\n",
       "                                          similarApps  \\\n",
       "0   ['com.instapreps', 'com.noonEdu.k12App', 'com....   \n",
       "1   ['com.pinterest', 'com.memrise.android.memrise...   \n",
       "2   ['com.chegg', 'com.instapreps', 'com.noonEdu.k...   \n",
       "3   ['com.instapreps', 'com.noonEdu.k12App', 'com....   \n",
       "4   ['com.chegg', 'com.instapreps', 'com.guruvise....   \n",
       "..                                                ...   \n",
       "76  ['de.Yass.X_ArabicMusnad', 'com.pronunciatorll...   \n",
       "77  ['com.zenkit.zenkit', 'com.mergemobile.fastfie...   \n",
       "78     ['com.bebyaz.examreader', 'com.ubihrm.ubihrm']   \n",
       "79  ['com.kharty.kharty', 'com.hosam.my_courses', ...   \n",
       "80  ['com.olyappunited', 'com.emeritus.mobile', 'c...   \n",
       "\n",
       "                                                  url  \n",
       "0   https://play.google.com/store/apps/details?id=...  \n",
       "1   https://play.google.com/store/apps/details?id=...  \n",
       "2   https://play.google.com/store/apps/details?id=...  \n",
       "3   https://play.google.com/store/apps/details?id=...  \n",
       "4   https://play.google.com/store/apps/details?id=...  \n",
       "..                                                ...  \n",
       "76  https://play.google.com/store/apps/details?id=...  \n",
       "77  https://play.google.com/store/apps/details?id=...  \n",
       "78  https://play.google.com/store/apps/details?id=...  \n",
       "79  https://play.google.com/store/apps/details?id=...  \n",
       "80  https://play.google.com/store/apps/details?id=...  \n",
       "\n",
       "[81 rows x 18 columns]"
      ]
     },
     "execution_count": 5,
     "metadata": {},
     "output_type": "execute_result"
    }
   ],
   "source": [
    "df"
   ]
  },
  {
   "cell_type": "code",
   "execution_count": 3,
   "id": "2892ccd7",
   "metadata": {
    "scrolled": true
   },
   "outputs": [
    {
     "name": "stdout",
     "output_type": "stream",
     "text": [
      "<class 'pandas.core.frame.DataFrame'>\n",
      "RangeIndex: 81 entries, 0 to 80\n",
      "Data columns (total 18 columns):\n",
      " #   Column          Non-Null Count  Dtype  \n",
      "---  ------          --------------  -----  \n",
      " 0   title           81 non-null     object \n",
      " 1   summary         81 non-null     object \n",
      " 2   installs        81 non-null     float64\n",
      " 3   score           81 non-null     float64\n",
      " 4   ratings         59 non-null     float64\n",
      " 5   reviews         81 non-null     float64\n",
      " 6   size            81 non-null     object \n",
      " 7   androidVersion  81 non-null     object \n",
      " 8   developer       81 non-null     object \n",
      " 9   genreId         81 non-null     object \n",
      " 10  icon            81 non-null     object \n",
      " 11  contentRating   81 non-null     object \n",
      " 12  containsAds     81 non-null     bool   \n",
      " 13  released        81 non-null     object \n",
      " 14  updated         81 non-null     float64\n",
      " 15  version         81 non-null     object \n",
      " 16  similarApps     79 non-null     object \n",
      " 17  url             81 non-null     object \n",
      "dtypes: bool(1), float64(5), object(12)\n",
      "memory usage: 11.0+ KB\n",
      "None\n"
     ]
    }
   ],
   "source": [
    "# Get basic information about the DataFrame\n",
    "print(df.info())"
   ]
  },
  {
   "cell_type": "code",
   "execution_count": 4,
   "id": "2c414ed0",
   "metadata": {
    "scrolled": false
   },
   "outputs": [
    {
     "name": "stdout",
     "output_type": "stream",
     "text": [
      "           installs      score       ratings        reviews       updated\n",
      "count  8.100000e+01  81.000000  5.900000e+01      81.000000  8.100000e+01\n",
      "mean   5.079426e+06   3.118752  3.411435e+05   10019.888889  1.636717e+09\n",
      "std    1.724042e+07   1.956280  1.645348e+06   66211.449009  3.129071e+07\n",
      "min    5.000000e+00   0.000000  7.100000e+01       0.000000  1.433492e+09\n",
      "25%    1.000000e+04   0.000000  1.023000e+03       0.000000  1.637528e+09\n",
      "50%    1.000000e+05   4.163265  8.374000e+03      15.000000  1.649236e+09\n",
      "75%    1.000000e+06   4.500000  5.386750e+04     339.000000  1.651601e+09\n",
      "max    1.000000e+08   5.000000  1.251212e+07  592133.000000  1.652295e+09\n"
     ]
    }
   ],
   "source": [
    "print(df.describe())"
   ]
  },
  {
   "cell_type": "markdown",
   "id": "073afe64",
   "metadata": {},
   "source": [
    "# 1. What is the average score for all the apps in the dataset?"
   ]
  },
  {
   "cell_type": "code",
   "execution_count": 6,
   "id": "bb290452",
   "metadata": {},
   "outputs": [
    {
     "name": "stdout",
     "output_type": "stream",
     "text": [
      "The average score for all apps is: 3.1187520641975297\n"
     ]
    }
   ],
   "source": [
    "# Calculate the average score\n",
    "average_score = df['score'].mean()\n",
    "\n",
    "print('The average score for all apps is:', average_score)"
   ]
  },
  {
   "cell_type": "markdown",
   "id": "b16642bf",
   "metadata": {},
   "source": [
    "# 2. What is the total number of installs for each Android version?"
   ]
  },
  {
   "cell_type": "code",
   "execution_count": 12,
   "id": "2e54f470",
   "metadata": {},
   "outputs": [
    {
     "name": "stdout",
     "output_type": "stream",
     "text": [
      "The total number of installs for each Android version is:\n",
      " androidVersion\n",
      "2.3.3         10000.0\n",
      "4.0          200000.0\n",
      "4.1         3305000.0\n",
      "4.2            5005.0\n",
      "4.4         1660000.0\n",
      "5.0       216271500.0\n",
      "5.1         1060500.0\n",
      "6.0        11221500.0\n",
      "7.0        16100000.0\n",
      "8.0          500000.0\n",
      "Varies    161100000.0\n",
      "Name: installs, dtype: float64\n"
     ]
    }
   ],
   "source": [
    "# Group the DataFrame by Android version and calculate the sum of installs\n",
    "total_installs = df.groupby('androidVersion')['installs'].sum()\n",
    "\n",
    "print('The total number of installs for each Android version is:\\n', total_installs)"
   ]
  },
  {
   "cell_type": "markdown",
   "id": "bfd0e91c",
   "metadata": {},
   "source": [
    "# 3. What is the average rating for apps that were released in the year 2022?"
   ]
  },
  {
   "cell_type": "code",
   "execution_count": 13,
   "id": "d0b6fc25",
   "metadata": {},
   "outputs": [
    {
     "name": "stdout",
     "output_type": "stream",
     "text": [
      "The developer with the highest number of apps is: EduRev: Learning, Mock Test & Exam Preparation App\n"
     ]
    }
   ],
   "source": [
    "# Count the number of apps for each developer\n",
    "apps_per_developer = df['developer'].value_counts()\n",
    "\n",
    "# Get the developer with the highest number of apps\n",
    "highest_number_apps = apps_per_developer.index[0]\n",
    "\n",
    "print('The developer with the highest number of apps is:', highest_number_apps)"
   ]
  },
  {
   "cell_type": "markdown",
   "id": "6c27099d",
   "metadata": {},
   "source": [
    "# 4. What is the correlation between the number of reviews and the rating of an app?"
   ]
  },
  {
   "cell_type": "code",
   "execution_count": 16,
   "id": "2238f222",
   "metadata": {},
   "outputs": [
    {
     "name": "stdout",
     "output_type": "stream",
     "text": [
      "The correlation between the number of reviews and the rating of an app is: 0.9850050796855429\n"
     ]
    }
   ],
   "source": [
    "# Calculate the correlation between the number of reviews and the rating of an app\n",
    "correlation = df['reviews'].corr(df['ratings'])\n",
    "\n",
    "print('The correlation between the number of reviews and the rating of an app is:', correlation)"
   ]
  },
  {
   "cell_type": "markdown",
   "id": "9f856aab",
   "metadata": {},
   "source": [
    "# 5. What is the distribution of ratings for apps in the dataset?"
   ]
  },
  {
   "cell_type": "code",
   "execution_count": 17,
   "id": "ee5a869d",
   "metadata": {
    "scrolled": true
   },
   "outputs": [
    {
     "data": {
      "text/plain": [
       "<AxesSubplot:ylabel='Frequency'>"
      ]
     },
     "execution_count": 17,
     "metadata": {},
     "output_type": "execute_result"
    },
    {
     "data": {
      "image/png": "[encoded data removed]",
      "text/plain": [
       "<Figure size 640x480 with 1 Axes>"
      ]
     },
     "metadata": {},
     "output_type": "display_data"
    }
   ],
   "source": [
    "# Create a histogram of the ratings column\n",
    "df['ratings'].plot.hist()"
   ]
  },
  {
   "cell_type": "markdown",
   "id": "a5eb4905",
   "metadata": {},
   "source": [
    "# 6. What is the average score for apps with a certain number of installs?"
   ]
  },
  {
   "cell_type": "code",
   "execution_count": 18,
   "id": "42e9b51e",
   "metadata": {
    "scrolled": true
   },
   "outputs": [
    {
     "name": "stdout",
     "output_type": "stream",
     "text": [
      "The average score for apps with a certain number of installs is:\n",
      " installs\n",
      "5.0            0.000000\n",
      "500.0          0.000000\n",
      "1000.0         0.000000\n",
      "5000.0         1.571429\n",
      "10000.0        2.420753\n",
      "50000.0        3.402872\n",
      "100000.0       2.400106\n",
      "500000.0       4.413737\n",
      "1000000.0      4.222274\n",
      "5000000.0      4.581488\n",
      "10000000.0     4.308506\n",
      "50000000.0     3.789245\n",
      "100000000.0    4.347933\n",
      "Name: score, dtype: float64\n"
     ]
    }
   ],
   "source": [
    "# Group the DataFrame by number of installs and calculate the average score\n",
    "avg_score_by_installs = df.groupby('installs')['score'].mean()\n",
    "\n",
    "print('The average score for apps with a certain number of installs is:\\n', avg_score_by_installs)\n"
   ]
  },
  {
   "cell_type": "markdown",
   "id": "0c90b770",
   "metadata": {},
   "source": [
    "# 7. What is the most common Android version for apps in the dataset?"
   ]
  },
  {
   "cell_type": "code",
   "execution_count": 22,
   "id": "2fc0c34a",
   "metadata": {},
   "outputs": [
    {
     "name": "stdout",
     "output_type": "stream",
     "text": [
      "The most common Android version for apps in the dataset is: 5.0\n"
     ]
    }
   ],
   "source": [
    "# Find the most common Android version\n",
    "most_common_version = df['androidVersion'].mode()[0]\n",
    "\n",
    "print('The most common Android version for apps in the dataset is:', most_common_version)\n"
   ]
  }
 ],
 "metadata": {
  "kernelspec": {
   "display_name": "Python 3 (ipykernel)",
   "language": "python",
   "name": "python3"
  },
  "language_info": {
   "codemirror_mode": {
    "name": "ipython",
    "version": 3
   },
   "file_extension": ".py",
   "mimetype": "text/x-python",
   "name": "python",
   "nbconvert_exporter": "python",
   "pygments_lexer": "ipython3",
   "version": "3.9.13"
  },
  "vscode": {
   "interpreter": {
    "hash": "aee8b7b246df8f9039afb4144a1f6fd8d2ca17a180786b69acc140d282b71a49"
   }
  }
 },
 "nbformat": 4,
 "nbformat_minor": 5
}
